{
 "cells": [
  {
   "cell_type": "code",
   "execution_count": null,
   "metadata": {},
   "outputs": [],
   "source": [
    "import demics as dmc\n",
    "import cv2\n",
    "import numpy as np\n",
    "import matplotlib.pyplot as plt\n",
    "% matplotlib notebook\n",
    "import logging\n",
    "import sys\n",
    "logging.basicConfig(\n",
    "        stream=sys.stdout,\n",
    "        level=logging.INFO,\n",
    "        format='%(asctime)s %(name)s [%(levelname)s]:%(message)s',\n",
    "        datefmt='%Y-%m-%d %H:%M:%S')"
   ]
  },
  {
   "cell_type": "code",
   "execution_count": null,
   "metadata": {},
   "outputs": [],
   "source": [
    "s_train = 1\n",
    "s_test = 2\n",
    "train_file = \"../data/section_%s.tif\"%(str(s_train).zfill(4))\n",
    "test_file = \"../data/section_%s.tif\"%(str(s_test).zfill(4)) \n",
    "coords_file = \"../data/section_%s.{}.txt\"%(str(s_train).zfill(4))\n",
    "patchsize = 30"
   ]
  },
  {
   "cell_type": "code",
   "execution_count": null,
   "metadata": {
    "scrolled": false
   },
   "outputs": [],
   "source": [
    "# prepare training data for L=2 different classes\n",
    "I = cv2.imread( train_file, 0 )\n",
    "labels = ['bg','vessels']\n",
    "training_patches = []\n",
    "training_labels = []\n",
    "for l in labels:\n",
    "    coords = np.loadtxt(coords_file.format(l))\n",
    "    patches_l = dmc.extract_patches( I, coords, patchsize )\n",
    "    training_patches.extend( patches_l )\n",
    "    training_labels.extend( [labels.index(l)]*len(patches_l) )"
   ]
  },
  {
   "cell_type": "code",
   "execution_count": null,
   "metadata": {},
   "outputs": [],
   "source": [
    "# see the vessel patches\n",
    "print labels.index(\"vessels\")\n",
    "vesselpatches = [p for i,p \n",
    "                 in enumerate(training_patches) \n",
    "                 if training_labels[i]==labels.index(\"vessels\")]\n",
    "numpatches = len(vesselpatches)\n",
    "f,axs = plt.subplots( 5, numpatches/5+1, sharex=True,sharey=True)\n",
    "for i,p in enumerate(vesselpatches):\n",
    "    axs[i%5,i/5].imshow(p,cmap='gray')\n",
    "    axs[i%5,i/5].axis('off')\n",
    "plt.show()"
   ]
  },
  {
   "cell_type": "code",
   "execution_count": null,
   "metadata": {},
   "outputs": [],
   "source": [
    "# Training: train the classifier\n",
    "classifier = dmc.TextureClassifier()\n",
    "classifier.train( training_patches, training_labels )"
   ]
  },
  {
   "cell_type": "code",
   "execution_count": null,
   "metadata": {},
   "outputs": [],
   "source": [
    "# collect patches for prediction\n",
    "I = cv2.imread( test_file, 0 )\n",
    "gridcoords = dmc.grid_coordinates(I.shape, 10, patchsize/2)\n",
    "patches = dmc.extract_patches( I, gridcoords, patchsize )"
   ]
  },
  {
   "cell_type": "code",
   "execution_count": null,
   "metadata": {},
   "outputs": [],
   "source": [
    "# prediction: predict labels for N image patches\n",
    "labels, scores = classifier.predict( patches )\n",
    "# labels is a Nx1 vector, with elements 0 <= e <=L-1; scores is an NxL array"
   ]
  },
  {
   "cell_type": "code",
   "execution_count": null,
   "metadata": {
    "scrolled": false
   },
   "outputs": [],
   "source": [
    "# Plot detected vessels\n",
    "plt.figure()\n",
    "plt.imshow(I, 'gray')\n",
    "plt.plot(np.array(gridcoords)[np.where(labels==1)[0]][:,0], \n",
    "         np.array(gridcoords)[np.where(labels==1)[0]][:,1], \"r.\")\n",
    "plt.show()"
   ]
  },
  {
   "cell_type": "code",
   "execution_count": null,
   "metadata": {},
   "outputs": [],
   "source": [
    "classifier.save(filename=\"trained_classifier.p\")"
   ]
  },
  {
   "cell_type": "code",
   "execution_count": null,
   "metadata": {
    "collapsed": true
   },
   "outputs": [],
   "source": [
    "classifier2 = dmc.TextureClassifier.load(\"trained_classifier.p\")"
   ]
  },
  {
   "cell_type": "code",
   "execution_count": null,
   "metadata": {
    "collapsed": true
   },
   "outputs": [],
   "source": [
    "# collect patches for prediction\n",
    "I = cv2.imread( test_file, 0 )\n",
    "gridcoords = dmc.grid_coordinates(I.shape, 10, patchsize/2)\n",
    "patches = dmc.extract_patches( I, gridcoords, patchsize )"
   ]
  },
  {
   "cell_type": "code",
   "execution_count": null,
   "metadata": {
    "collapsed": true
   },
   "outputs": [],
   "source": [
    "# prediction: predict labels for N image patches\n",
    "labels, scores = classifier.predict( patches )\n",
    "# labels is a Nx1 vector, with elements 0 <= e <=L-1; scores is an NxL array"
   ]
  },
  {
   "cell_type": "code",
   "execution_count": null,
   "metadata": {},
   "outputs": [],
   "source": [
    "# Plot detected vessels\n",
    "plt.figure()\n",
    "plt.imshow(I, 'gray')\n",
    "plt.plot(np.array(gridcoords)[np.where(labels==1)[0]][:,0], \n",
    "         np.array(gridcoords)[np.where(labels==1)[0]][:,1], \"r.\")\n",
    "plt.show()"
   ]
  },
  {
   "cell_type": "code",
   "execution_count": null,
   "metadata": {
    "collapsed": true
   },
   "outputs": [],
   "source": []
  }
 ],
 "metadata": {
  "kernelspec": {
   "display_name": "Python 2",
   "language": "python",
   "name": "python2"
  },
  "language_info": {
   "codemirror_mode": {
    "name": "ipython",
    "version": 2
   },
   "file_extension": ".py",
   "mimetype": "text/x-python",
   "name": "python",
   "nbconvert_exporter": "python",
   "pygments_lexer": "ipython2",
   "version": "2.7.14"
  }
 },
 "nbformat": 4,
 "nbformat_minor": 2
}
