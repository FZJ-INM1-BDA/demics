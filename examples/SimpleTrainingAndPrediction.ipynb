{
 "cells": [
  {
   "cell_type": "code",
   "execution_count": null,
   "metadata": {
    "scrolled": true
   },
   "outputs": [],
   "source": [
    "from __future__ import division, print_function\n",
    "import demics as dmc\n",
    "import cv2\n",
    "import numpy as np\n",
    "from matplotlib import pyplot as plt\n",
    "% matplotlib notebook\n",
    "import logging\n",
    "import sys\n",
    "logging.basicConfig(\n",
    "        stream=sys.stdout,\n",
    "        level=logging.INFO,\n",
    "        format='%(asctime)s %(name)s [%(levelname)s]:%(message)s',\n",
    "        datefmt='%Y-%m-%d %H:%M:%S')"
   ]
  },
  {
   "cell_type": "code",
   "execution_count": null,
   "metadata": {},
   "outputs": [],
   "source": [
    "s_train = 1\n",
    "s_test = 2\n",
    "train_file = \"../data/section_%s.tif\"%(str(s_train).zfill(4))\n",
    "test_file = \"../data/section_%s.tif\"%(str(s_test).zfill(4)) \n",
    "coords_file = \"../data/section_%s.{}.txt\"%(str(s_train).zfill(4))\n",
    "patchsize = 30"
   ]
  },
  {
   "cell_type": "code",
   "execution_count": null,
   "metadata": {
    "scrolled": false
   },
   "outputs": [],
   "source": [
    "# prepare training data for L=2 different classes\n",
    "I = cv2.imread( train_file, 0 )\n",
    "labels = ['bg','vessels']\n",
    "training_patches = []\n",
    "training_labels = []\n",
    "for l in labels:\n",
    "    coords = np.loadtxt(coords_file.format(l))\n",
    "    patches_l = dmc.extract_patches( I, coords, patchsize )\n",
    "    training_patches.extend( patches_l )\n",
    "    training_labels.extend( [labels.index(l)]*len(patches_l) )"
   ]
  },
  {
   "cell_type": "code",
   "execution_count": null,
   "metadata": {},
   "outputs": [],
   "source": [
    "# see the vessel patches\n",
    "vesselpatches = [p for i,p \n",
    "                 in enumerate(training_patches) \n",
    "                 if training_labels[i]==labels.index(\"vessels\")]\n",
    "numpatches = len(vesselpatches)\n",
    "f,axs = plt.subplots( 5, numpatches//5+1, sharex=True,sharey=True)\n",
    "for i,p in enumerate(vesselpatches):\n",
    "    axs[i%5,i//5].imshow(p,cmap='gray')\n",
    "    axs[i%5,i//5].axis('off')\n",
    "plt.show()"
   ]
  },
  {
   "cell_type": "code",
   "execution_count": null,
   "metadata": {},
   "outputs": [],
   "source": [
    "# Training: train the classifier\n",
    "classifier = dmc.TextureClassifier()\n",
    "param_grid = [{'C': 10.**np.arange(-3, 4), 'kernel': ['linear']},\n",
    "              {'C': 10.**np.arange(-3, 4), 'gamma': 10.**np.arange(-4, 3), 'kernel':['rbf']}]\n",
    "classifier.grid_search(param_grid, n_jobs=-1, cv=3, refit=True)\n",
    "classifier.train(np.array(training_patches), np.array(training_labels), num_augmentations=5)"
   ]
  },
  {
   "cell_type": "markdown",
   "metadata": {},
   "source": [
    "## Optionally save and reload trained classifier / parameters"
   ]
  },
  {
   "cell_type": "code",
   "execution_count": null,
   "metadata": {},
   "outputs": [],
   "source": [
    "classifier.save(filename=\"trained_classifier.p\", overwrite=True)"
   ]
  },
  {
   "cell_type": "code",
   "execution_count": null,
   "metadata": {},
   "outputs": [],
   "source": [
    "classifier = dmc.TextureClassifier.load(\"trained_classifier.p\")"
   ]
  },
  {
   "cell_type": "markdown",
   "metadata": {},
   "source": [
    "## Extract and predict image patches ..."
   ]
  },
  {
   "cell_type": "code",
   "execution_count": null,
   "metadata": {},
   "outputs": [],
   "source": [
    "# collect patches for prediction\n",
    "I = cv2.imread(test_file, 0)\n",
    "gridcoords = dmc.grid_coordinates(I.shape, 20, patchsize//2)\n",
    "patches = dmc.extract_patches(I, gridcoords, patchsize)"
   ]
  },
  {
   "cell_type": "code",
   "execution_count": null,
   "metadata": {},
   "outputs": [],
   "source": [
    "# prediction: predict labels for N image patches\n",
    "labels, scores = classifier.predict(patches)\n",
    "# labels is an Nx1 vector, with elements 0 <= e <=L-1; scores is an NxL array"
   ]
  },
  {
   "cell_type": "code",
   "execution_count": null,
   "metadata": {},
   "outputs": [],
   "source": [
    "# Plot detected vessels\n",
    "detections = np.array(gridcoords)[np.where(labels==1)[0]]\n",
    "plt.figure()\n",
    "plt.imshow(I, 'gray')\n",
    "plt.plot(detections[:,0], detections[:,1], \"r.\")\n",
    "plt.show()"
   ]
  },
  {
   "cell_type": "markdown",
   "metadata": {},
   "source": [
    "## ... or detect multi-scale features with detect()"
   ]
  },
  {
   "cell_type": "code",
   "execution_count": null,
   "metadata": {},
   "outputs": [],
   "source": [
    "I = cv2.imread(test_file, 0)\n",
    "detections = classifier.detect(I, 1, gridsize=20)"
   ]
  },
  {
   "cell_type": "code",
   "execution_count": null,
   "metadata": {},
   "outputs": [],
   "source": [
    "# Plot detected vessels\n",
    "plt.figure()\n",
    "plt.imshow(I, 'gray')\n",
    "plt.plot(detections.x,detections.y, \"r.\")\n",
    "plt.show()"
   ]
  },
  {
   "cell_type": "code",
   "execution_count": null,
   "metadata": {},
   "outputs": [],
   "source": [
    "### optional: Drop coordinates with only one detection (in just one scale)\n",
    "detections = detections[detections.duplicated(subset=[\"x\",\"y\"], keep=False)]\n",
    "plt.figure()\n",
    "plt.imshow(I, 'gray')\n",
    "plt.plot(detections.x,detections.y, \"r.\")\n",
    "plt.show()"
   ]
  },
  {
   "cell_type": "markdown",
   "metadata": {},
   "source": [
    "## Cluster detections with MeanShift"
   ]
  },
  {
   "cell_type": "code",
   "execution_count": null,
   "metadata": {},
   "outputs": [],
   "source": [
    "from sklearn.cluster import MeanShift\n",
    "bandwidth = 180/5   # 36\n",
    "ms = MeanShift(bandwidth=65, bin_seeding=True, cluster_all=False)\n",
    "ms.fit(detections[[\"x\",\"y\",\"size\"]])"
   ]
  },
  {
   "cell_type": "code",
   "execution_count": null,
   "metadata": {},
   "outputs": [],
   "source": [
    "# Plot detected vessels and cluster centers\n",
    "plt.figure()\n",
    "plt.imshow(I, 'gray')\n",
    "plt.plot(detections.x,detections.y, \"r.\")\n",
    "plt.plot(ms.cluster_centers_[:,0],\n",
    "         ms.cluster_centers_[:,1], \"b.\")\n",
    "plt.show()"
   ]
  },
  {
   "cell_type": "markdown",
   "metadata": {},
   "source": [
    "## Cluster detections with DBSCAN"
   ]
  },
  {
   "cell_type": "code",
   "execution_count": null,
   "metadata": {},
   "outputs": [],
   "source": [
    "from sklearn.cluster import DBSCAN\n",
    "dbscan = DBSCAN(eps=23, min_samples=5)   # 17 / 5\n",
    "db_labels = dbscan.fit_predict(detections[[\"x\",\"y\"]])\n",
    "XY_center = np.array([[detections.x.values[np.where(db_labels == l)].mean(), \n",
    "                       detections.y.values[np.where(db_labels == l)].mean()] \n",
    "                      for l in np.unique(db_labels) \n",
    "                      if l != -1])"
   ]
  },
  {
   "cell_type": "code",
   "execution_count": null,
   "metadata": {},
   "outputs": [],
   "source": [
    "# Plot detected vessels and cluster centers\n",
    "plt.figure()\n",
    "plt.imshow(I, 'gray')\n",
    "plt.plot(detections.x,detections.y, \"r.\")\n",
    "plt.plot(XY_center[:,0],\n",
    "         XY_center[:,1], \"b.\")\n",
    "plt.show()"
   ]
  },
  {
   "cell_type": "code",
   "execution_count": null,
   "metadata": {},
   "outputs": [],
   "source": []
  }
 ],
 "metadata": {
  "kernelspec": {
   "display_name": "Python 2",
   "language": "python",
   "name": "python2"
  },
  "language_info": {
   "codemirror_mode": {
    "name": "ipython",
    "version": 2
   },
   "file_extension": ".py",
   "mimetype": "text/x-python",
   "name": "python",
   "nbconvert_exporter": "python",
   "pygments_lexer": "ipython2",
   "version": "2.7.14"
  }
 },
 "nbformat": 4,
 "nbformat_minor": 2
}
